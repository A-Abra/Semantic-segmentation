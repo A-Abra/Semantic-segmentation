{
  "nbformat": 4,
  "nbformat_minor": 0,
  "metadata": {
    "colab": {
      "provenance": [],
      "collapsed_sections": [],
      "authorship_tag": "ABX9TyPFx/ZDI0ivcO+f7oUJ3Wbv",
      "include_colab_link": true
    },
    "kernelspec": {
      "name": "python3",
      "display_name": "Python 3"
    },
    "language_info": {
      "name": "python"
    }
  },
  "cells": [
    {
      "cell_type": "markdown",
      "metadata": {
        "id": "view-in-github",
        "colab_type": "text"
      },
      "source": [
        "<a href=\"https://colab.research.google.com/github/A-Abra/Semantic-segmentation/blob/milestone-1/Satellite_Segmentation.ipynb\" target=\"_parent\"><img src=\"https://colab.research.google.com/assets/colab-badge.svg\" alt=\"Open In Colab\"/></a>"
      ]
    },
    {
      "cell_type": "code",
      "execution_count": 3,
      "metadata": {
        "colab": {
          "base_uri": "https://localhost:8080/"
        },
        "id": "fKxDqz1Nv2Pg",
        "outputId": "9b4130bd-58a8-459f-ab16-9598e8113603"
      },
      "outputs": [
        {
          "output_type": "stream",
          "name": "stdout",
          "text": [
            "Looking in indexes: https://pypi.org/simple, https://us-python.pkg.dev/colab-wheels/public/simple/\n",
            "Requirement already satisfied: nni in /usr/local/lib/python3.7/dist-packages (2.9)\n",
            "Requirement already satisfied: cloudpickle in /usr/local/lib/python3.7/dist-packages (from nni) (1.5.0)\n",
            "Requirement already satisfied: typing-extensions>=4.0.0 in /usr/local/lib/python3.7/dist-packages (from nni) (4.1.1)\n",
            "Requirement already satisfied: colorama in /usr/local/lib/python3.7/dist-packages (from nni) (0.4.6)\n",
            "Requirement already satisfied: scikit-learn>=0.24.1 in /usr/local/lib/python3.7/dist-packages (from nni) (1.0.2)\n",
            "Requirement already satisfied: typeguard in /usr/local/lib/python3.7/dist-packages (from nni) (2.7.1)\n",
            "Requirement already satisfied: packaging in /usr/local/lib/python3.7/dist-packages (from nni) (21.3)\n",
            "Requirement already satisfied: numpy<1.22 in /usr/local/lib/python3.7/dist-packages (from nni) (1.21.6)\n",
            "Requirement already satisfied: pyyaml>=5.4 in /usr/local/lib/python3.7/dist-packages (from nni) (6.0)\n",
            "Requirement already satisfied: filelock in /usr/local/lib/python3.7/dist-packages (from nni) (3.8.0)\n",
            "Requirement already satisfied: json-tricks>=3.15.5 in /usr/local/lib/python3.7/dist-packages (from nni) (3.15.5)\n",
            "Requirement already satisfied: requests in /usr/local/lib/python3.7/dist-packages (from nni) (2.23.0)\n",
            "Requirement already satisfied: psutil in /usr/local/lib/python3.7/dist-packages (from nni) (5.4.8)\n",
            "Requirement already satisfied: schema in /usr/local/lib/python3.7/dist-packages (from nni) (0.7.5)\n",
            "Requirement already satisfied: responses in /usr/local/lib/python3.7/dist-packages (from nni) (0.22.0)\n",
            "Requirement already satisfied: PythonWebHDFS in /usr/local/lib/python3.7/dist-packages (from nni) (0.2.3)\n",
            "Requirement already satisfied: astor in /usr/local/lib/python3.7/dist-packages (from nni) (0.8.1)\n",
            "Requirement already satisfied: hyperopt==0.1.2 in /usr/local/lib/python3.7/dist-packages (from nni) (0.1.2)\n",
            "Requirement already satisfied: scipy<1.8 in /usr/local/lib/python3.7/dist-packages (from nni) (1.7.3)\n",
            "Requirement already satisfied: pandas in /usr/local/lib/python3.7/dist-packages (from nni) (1.3.5)\n",
            "Requirement already satisfied: tqdm in /usr/local/lib/python3.7/dist-packages (from nni) (4.64.1)\n",
            "Requirement already satisfied: websockets>=10.1 in /usr/local/lib/python3.7/dist-packages (from nni) (10.4)\n",
            "Requirement already satisfied: prettytable in /usr/local/lib/python3.7/dist-packages (from nni) (3.4.1)\n",
            "Requirement already satisfied: future in /usr/local/lib/python3.7/dist-packages (from hyperopt==0.1.2->nni) (0.16.0)\n",
            "Requirement already satisfied: six in /usr/local/lib/python3.7/dist-packages (from hyperopt==0.1.2->nni) (1.15.0)\n",
            "Requirement already satisfied: pymongo in /usr/local/lib/python3.7/dist-packages (from hyperopt==0.1.2->nni) (4.3.2)\n",
            "Requirement already satisfied: networkx in /usr/local/lib/python3.7/dist-packages (from hyperopt==0.1.2->nni) (2.6.3)\n",
            "Requirement already satisfied: joblib>=0.11 in /usr/local/lib/python3.7/dist-packages (from scikit-learn>=0.24.1->nni) (1.2.0)\n",
            "Requirement already satisfied: threadpoolctl>=2.0.0 in /usr/local/lib/python3.7/dist-packages (from scikit-learn>=0.24.1->nni) (3.1.0)\n",
            "Requirement already satisfied: pyparsing!=3.0.5,>=2.0.2 in /usr/local/lib/python3.7/dist-packages (from packaging->nni) (3.0.9)\n",
            "Requirement already satisfied: pytz>=2017.3 in /usr/local/lib/python3.7/dist-packages (from pandas->nni) (2022.5)\n",
            "Requirement already satisfied: python-dateutil>=2.7.3 in /usr/local/lib/python3.7/dist-packages (from pandas->nni) (2.8.2)\n",
            "Requirement already satisfied: importlib-metadata in /usr/local/lib/python3.7/dist-packages (from prettytable->nni) (4.13.0)\n",
            "Requirement already satisfied: wcwidth in /usr/local/lib/python3.7/dist-packages (from prettytable->nni) (0.2.5)\n",
            "Requirement already satisfied: zipp>=0.5 in /usr/local/lib/python3.7/dist-packages (from importlib-metadata->prettytable->nni) (3.9.0)\n",
            "Requirement already satisfied: dnspython<3.0.0,>=1.16.0 in /usr/local/lib/python3.7/dist-packages (from pymongo->hyperopt==0.1.2->nni) (2.2.1)\n",
            "Requirement already satisfied: simplejson in /usr/local/lib/python3.7/dist-packages (from PythonWebHDFS->nni) (3.17.6)\n",
            "Requirement already satisfied: idna<3,>=2.5 in /usr/local/lib/python3.7/dist-packages (from requests->nni) (2.10)\n",
            "Requirement already satisfied: urllib3!=1.25.0,!=1.25.1,<1.26,>=1.21.1 in /usr/local/lib/python3.7/dist-packages (from requests->nni) (1.25.11)\n",
            "Requirement already satisfied: certifi>=2017.4.17 in /usr/local/lib/python3.7/dist-packages (from requests->nni) (2022.9.24)\n",
            "Requirement already satisfied: chardet<4,>=3.0.2 in /usr/local/lib/python3.7/dist-packages (from requests->nni) (3.0.4)\n",
            "Requirement already satisfied: types-toml in /usr/local/lib/python3.7/dist-packages (from responses->nni) (0.10.8)\n",
            "Requirement already satisfied: toml in /usr/local/lib/python3.7/dist-packages (from responses->nni) (0.10.2)\n",
            "Requirement already satisfied: contextlib2>=0.5.5 in /usr/local/lib/python3.7/dist-packages (from schema->nni) (0.5.5)\n",
            "--2022-10-28 15:29:30--  https://bin.equinox.io/c/4VmDzA7iaHb/ngrok-stable-linux-amd64.zip\n",
            "Resolving bin.equinox.io (bin.equinox.io)... 52.202.168.65, 18.205.222.128, 54.237.133.81, ...\n",
            "Connecting to bin.equinox.io (bin.equinox.io)|52.202.168.65|:443... connected.\n",
            "HTTP request sent, awaiting response... 200 OK\n",
            "Length: 13832437 (13M) [application/octet-stream]\n",
            "Saving to: ‘ngrok-stable-linux-amd64.zip.1’\n",
            "\n",
            "ngrok-stable-linux- 100%[===================>]  13.19M  57.6MB/s    in 0.2s    \n",
            "\n",
            "2022-10-28 15:29:31 (57.6 MB/s) - ‘ngrok-stable-linux-amd64.zip.1’ saved [13832437/13832437]\n",
            "\n",
            "Archive:  ngrok-stable-linux-amd64.zip\n",
            "replace ngrok? [y]es, [n]o, [A]ll, [N]one, [r]ename: A\n",
            "  inflating: ngrok                   \n",
            "fatal: destination path 'nni_repo/nni' already exists and is not an empty directory.\n"
          ]
        }
      ],
      "source": [
        "! pip install nni # install nni\n",
        "! wget https://bin.equinox.io/c/4VmDzA7iaHb/ngrok-stable-linux-amd64.zip # download ngrok and unzip it\n",
        "! unzip ngrok-stable-linux-amd64.zip\n",
        "! mkdir -p nni_repo\n",
        "! git clone https://github.com/microsoft/nni.git nni_repo/nni # clone NNI's offical repo to get examples"
      ]
    },
    {
      "cell_type": "code",
      "source": [
        "! ./ngrok authtoken 2GjVnxjnDv5z3VXi5gMnrdVrbt1_2QJn9uCqErV2GtjMzb51v"
      ],
      "metadata": {
        "colab": {
          "base_uri": "https://localhost:8080/"
        },
        "id": "Gbn-pLDvEXik",
        "outputId": "831ea7c0-c338-4661-efd7-d763b98e47ff"
      },
      "execution_count": 4,
      "outputs": [
        {
          "output_type": "stream",
          "name": "stdout",
          "text": [
            "Authtoken saved to configuration file: /root/.ngrok2/ngrok.yml\n"
          ]
        }
      ]
    },
    {
      "cell_type": "code",
      "source": [
        "! nnictl create --config nni_repo/nni/examples/trials/mnist-pytorch/config.yml --port 5000 &\n",
        "get_ipython().system_raw('./ngrok http 5000 &')"
      ],
      "metadata": {
        "colab": {
          "base_uri": "https://localhost:8080/"
        },
        "id": "TW-JsiXdJSGc",
        "outputId": "7752f59b-4091-41bb-ebfe-c78e0ea189d3"
      },
      "execution_count": 8,
      "outputs": [
        {
          "output_type": "stream",
          "name": "stdout",
          "text": [
            "Traceback (most recent call last):\n",
            "\u001b[0m  File \"/usr/local/bin/nnictl\", line 8, in <module>\n",
            "\u001b[0m    \u001b[0msys.exit(parse_args())\u001b[0m\n",
            "\u001b[0m  File \"/usr/local/lib/python3.7/dist-packages/nni/tools/nnictl/nnictl.py\", line 497, in parse_args\n",
            "\u001b[0m    \u001b[0margs.func(args)\u001b[0m\n",
            "\u001b[0m  File \"/usr/local/lib/python3.7/dist-packages/nni/tools/nnictl/launcher.py\", line 91, in create_experiment\n",
            "\u001b[0m    \u001b[0mexp.start(port, debug, RunMode.Detach)\u001b[0m\n",
            "\u001b[0m  File \"/usr/local/lib/python3.7/dist-packages/nni/experiment/experiment.py\", line 135, in start\n",
            "\u001b[0m    \u001b[0mself._start_impl(port, debug, run_mode, None, [])\u001b[0m\n",
            "\u001b[0m  File \"/usr/local/lib/python3.7/dist-packages/nni/experiment/experiment.py\", line 104, in _start_impl\n",
            "\u001b[0m    \u001b[0mself.url_prefix, tuner_command_channel, tags)\u001b[0m\n",
            "\u001b[0m  File \"/usr/local/lib/python3.7/dist-packages/nni/experiment/launcher.py\", line 105, in start_experiment\n",
            "\u001b[0m    \u001b[0m_ensure_port_idle(port)\u001b[0m\n",
            "\u001b[0m  File \"/usr/local/lib/python3.7/dist-packages/nni/experiment/launcher.py\", line 185, in _ensure_port_idle\n",
            "\u001b[0m    \u001b[0mraise RuntimeError(f'Port {port} is not idle {message}')\u001b[0m\n",
            "\u001b[0mRuntimeError\u001b[0m: \u001b[0mPort 5000 is not idle \u001b[0m\n",
            "\u001b[0m\u001b[0m"
          ]
        }
      ]
    },
    {
      "cell_type": "code",
      "source": [
        "! curl -s http://localhost:4040/api/tunnels "
      ],
      "metadata": {
        "colab": {
          "base_uri": "https://localhost:8080/"
        },
        "id": "60fGYt7Jdn-9",
        "outputId": "2ff116a0-38ac-4b07-cbac-1768cfdce69b"
      },
      "execution_count": 9,
      "outputs": [
        {
          "output_type": "stream",
          "name": "stdout",
          "text": [
            "{\"tunnels\":[{\"name\":\"command_line\",\"uri\":\"/api/tunnels/command_line\",\"public_url\":\"https://9cd9-35-196-254-179.ngrok.io\",\"proto\":\"https\",\"config\":{\"addr\":\"http://localhost:5000\",\"inspect\":true},\"metrics\":{\"conns\":{\"count\":0,\"gauge\":0,\"rate1\":0,\"rate5\":0,\"rate15\":0,\"p50\":0,\"p90\":0,\"p95\":0,\"p99\":0},\"http\":{\"count\":0,\"rate1\":0,\"rate5\":0,\"rate15\":0,\"p50\":0,\"p90\":0,\"p95\":0,\"p99\":0}}},{\"name\":\"command_line (http)\",\"uri\":\"/api/tunnels/command_line%20%28http%29\",\"public_url\":\"http://9cd9-35-196-254-179.ngrok.io\",\"proto\":\"http\",\"config\":{\"addr\":\"http://localhost:5000\",\"inspect\":true},\"metrics\":{\"conns\":{\"count\":0,\"gauge\":0,\"rate1\":0,\"rate5\":0,\"rate15\":0,\"p50\":0,\"p90\":0,\"p95\":0,\"p99\":0},\"http\":{\"count\":0,\"rate1\":0,\"rate5\":0,\"rate15\":0,\"p50\":0,\"p90\":0,\"p95\":0,\"p99\":0}}}],\"uri\":\"/api/tunnels\"}\n"
          ]
        }
      ]
    },
    {
      "cell_type": "code",
      "source": [
        "!mkdir satSegFiles\n",
        "!cd /content/satSegFiles && wget https://raw.githubusercontent.com/bnsreenu/python_for_microscopists/master/228_semantic_segmentation_of_aerial_imagery_using_unet/228_training_aerial_imagery.py\n",
        "!cd /content/satSegFiles && wget https://raw.githubusercontent.com/bnsreenu/python_for_microscopists/master/228_semantic_segmentation_of_aerial_imagery_using_unet/simple_multi_unet_model.py"
      ],
      "metadata": {
        "colab": {
          "base_uri": "https://localhost:8080/"
        },
        "id": "Y95B8ZGShL8T",
        "outputId": "1a3807a9-2d29-46b5-b58f-e2ef0ff49493"
      },
      "execution_count": 18,
      "outputs": [
        {
          "output_type": "stream",
          "name": "stdout",
          "text": [
            "--2022-10-28 15:50:23--  https://raw.githubusercontent.com/bnsreenu/python_for_microscopists/master/228_semantic_segmentation_of_aerial_imagery_using_unet/228_training_aerial_imagery.py\n",
            "Resolving raw.githubusercontent.com (raw.githubusercontent.com)... 185.199.108.133, 185.199.109.133, 185.199.110.133, ...\n",
            "Connecting to raw.githubusercontent.com (raw.githubusercontent.com)|185.199.108.133|:443... connected.\n",
            "HTTP request sent, awaiting response... 200 OK\n",
            "Length: 15664 (15K) [text/plain]\n",
            "Saving to: ‘228_training_aerial_imagery.py’\n",
            "\n",
            "\r          228_train   0%[                    ]       0  --.-KB/s               \r228_training_aerial 100%[===================>]  15.30K  --.-KB/s    in 0s      \n",
            "\n",
            "2022-10-28 15:50:23 (30.3 MB/s) - ‘228_training_aerial_imagery.py’ saved [15664/15664]\n",
            "\n",
            "--2022-10-28 15:50:23--  https://raw.githubusercontent.com/bnsreenu/python_for_microscopists/master/228_semantic_segmentation_of_aerial_imagery_using_unet/simple_multi_unet_model.py\n",
            "Resolving raw.githubusercontent.com (raw.githubusercontent.com)... 185.199.108.133, 185.199.109.133, 185.199.110.133, ...\n",
            "Connecting to raw.githubusercontent.com (raw.githubusercontent.com)|185.199.108.133|:443... connected.\n",
            "HTTP request sent, awaiting response... 200 OK\n",
            "Length: 4070 (4.0K) [text/plain]\n",
            "Saving to: ‘simple_multi_unet_model.py’\n",
            "\n",
            "simple_multi_unet_m 100%[===================>]   3.97K  --.-KB/s    in 0s      \n",
            "\n",
            "2022-10-28 15:50:23 (12.7 MB/s) - ‘simple_multi_unet_model.py’ saved [4070/4070]\n",
            "\n"
          ]
        }
      ]
    }
  ]
}